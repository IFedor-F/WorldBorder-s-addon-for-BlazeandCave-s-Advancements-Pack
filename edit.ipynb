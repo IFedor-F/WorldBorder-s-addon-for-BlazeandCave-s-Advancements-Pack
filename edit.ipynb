{
 "cells": [
  {
   "cell_type": "code",
   "execution_count": 25,
   "metadata": {},
   "outputs": [
    {
     "name": "stdout",
     "output_type": "stream",
     "text": [
      "worldborder add 300.0 19\n",
      "scoreboard players set minecraft:adventure/adventuring_time wb 1\n",
      "scoreboard players set is_wb_run wb 0\n",
      "schedule function bc_wb:untask 19s\n",
      "tellraw @a {\"text\": \" +150.0 Blocks\", \"color\": \"#B2FFEE\", \"hoverEvent\": {\"action\": \"show_text\", \"contents\": [\"\", {\"translate\": \"Adventuring Time\", \"color\": \"dark_purple\"}, {\"text\": \"\\n\"}, {\"translate\": \"Discover each type of surface biome in the Overworld\", \"color\": \"#C900C7\"}, {\"text\": \"\\n\\n\"}, {\"translate\": \"Biomes\", \"color\": \"gray\", \"italic\": true}]}}\n",
      "\n"
     ]
    }
   ],
   "source": [
    "import json, os\n",
    "from collections import defaultdict\n",
    "\n",
    "border = {\"minecraft:adventure/adventuring_time\":20}\n",
    "\n",
    "name = \"\"\n",
    "blocks = \"\"\n",
    "tellraw = \"\"\n",
    "\n",
    "with open('datapack/data/bc_wb/function/reward/biomes/adventuring_time.mcfunction', \"r\") as f:\n",
    "    content = f.read()\n",
    "    lines = content.split(\"\\n\")\n",
    "    name = lines[1].split(\" \")[3]\n",
    "    blocks = border[name]\n",
    "    #print(name)\n",
    "    #print(lines[4][11:])\n",
    "    tellraw = json.loads(lines[4][11:])\n",
    "    tellraw['text'] = f' +{blocks} Blocks'\n",
    "    #print(json.dumps(jsontest))\n",
    "    print(content + \"\\n\")\n",
    "\n",
    "with open('datapack/data/bc_wb/function/reward/biomes/adventuring_time.mcfunction', \"w\") as f:\n",
    "    f.write(f\"\"\"worldborder add {blocks*2} {blocks}\n",
    "scoreboard players add {name} wb 1\n",
    "scoreboard players set is_wb_run wb 0\n",
    "schedule function bc_wb:untask {blocks}\n",
    "tellraw @a {json.dumps(tellraw)}\"\"\")"
   ]
  },
  {
   "cell_type": "code",
   "execution_count": null,
   "metadata": {},
   "outputs": [],
   "source": [
    "data_path = 'datapack/bc_wb/reward'\n",
    "\n",
    "for tab in os.listdir(data_path):\n",
    "    for func in os.listdir(os.path.join(data_path,tab)):\n",
    "        with open(os.path.join(data_path,tab,func), \"r\") as f:\n",
    "                content = f.read()"
   ]
  }
 ],
 "metadata": {
  "kernelspec": {
   "display_name": "Python 3",
   "language": "python",
   "name": "python3"
  },
  "language_info": {
   "codemirror_mode": {
    "name": "ipython",
    "version": 3
   },
   "file_extension": ".py",
   "mimetype": "text/x-python",
   "name": "python",
   "nbconvert_exporter": "python",
   "pygments_lexer": "ipython3",
   "version": "3.12.3"
  }
 },
 "nbformat": 4,
 "nbformat_minor": 2
}
